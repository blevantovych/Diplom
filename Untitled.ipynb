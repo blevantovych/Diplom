{
 "cells": [
  {
   "cell_type": "code",
   "execution_count": 3,
   "metadata": {},
   "outputs": [],
   "source": [
    "from sympy import *"
   ]
  },
  {
   "cell_type": "code",
   "execution_count": 19,
   "metadata": {},
   "outputs": [],
   "source": [
    "system = Matrix(((1, 2, 1), (1, -1, 1)))"
   ]
  },
  {
   "cell_type": "code",
   "execution_count": 20,
   "metadata": {},
   "outputs": [
    {
     "data": {
      "text/plain": [
       "Matrix([\n",
       "[1,  2, 1],\n",
       "[1, -1, 1]])"
      ]
     },
     "execution_count": 20,
     "metadata": {},
     "output_type": "execute_result"
    }
   ],
   "source": [
    "system"
   ]
  },
  {
   "cell_type": "code",
   "execution_count": null,
   "metadata": {},
   "outputs": [],
   "source": []
  },
  {
   "cell_type": "code",
   "execution_count": 21,
   "metadata": {},
   "outputs": [],
   "source": [
    "x, y = symbols('x, y')"
   ]
  },
  {
   "cell_type": "code",
   "execution_count": 22,
   "metadata": {},
   "outputs": [],
   "source": [
    "roots = solve_linear_system(system, x, y)"
   ]
  },
  {
   "cell_type": "code",
   "execution_count": 24,
   "metadata": {},
   "outputs": [
    {
     "data": {
      "text/plain": [
       "{x: 1, y: 0}"
      ]
     },
     "execution_count": 24,
     "metadata": {},
     "output_type": "execute_result"
    }
   ],
   "source": [
    "roots"
   ]
  },
  {
   "cell_type": "code",
   "execution_count": null,
   "metadata": {},
   "outputs": [],
   "source": []
  },
  {
   "cell_type": "code",
   "execution_count": null,
   "metadata": {},
   "outputs": [],
   "source": []
  },
  {
   "cell_type": "code",
   "execution_count": null,
   "metadata": {},
   "outputs": [],
   "source": []
  },
  {
   "cell_type": "code",
   "execution_count": 17,
   "metadata": {},
   "outputs": [
    {
     "name": "stdout",
     "output_type": "stream",
     "text": [
      "Help on function solve_linear_system in module sympy.solvers.solvers:\n",
      "\n",
      "solve_linear_system(system, *symbols, **flags)\n",
      "    Solve system of N linear equations with M variables, which means\n",
      "    both under- and overdetermined systems are supported. The possible\n",
      "    number of solutions is zero, one or infinite. Respectively, this\n",
      "    procedure will return None or a dictionary with solutions. In the\n",
      "    case of underdetermined systems, all arbitrary parameters are skipped.\n",
      "    This may cause a situation in which an empty dictionary is returned.\n",
      "    In that case, all symbols can be assigned arbitrary values.\n",
      "    \n",
      "    Input to this functions is a Nx(M+1) matrix, which means it has\n",
      "    to be in augmented form. If you prefer to enter N equations and M\n",
      "    unknowns then use `solve(Neqs, *Msymbols)` instead. Note: a local\n",
      "    copy of the matrix is made by this routine so the matrix that is\n",
      "    passed will not be modified.\n",
      "    \n",
      "    The algorithm used here is fraction-free Gaussian elimination,\n",
      "    which results, after elimination, in an upper-triangular matrix.\n",
      "    Then solutions are found using back-substitution. This approach\n",
      "    is more efficient and compact than the Gauss-Jordan method.\n",
      "    \n",
      "    >>> from sympy import Matrix, solve_linear_system\n",
      "    >>> from sympy.abc import x, y\n",
      "    \n",
      "    Solve the following system::\n",
      "    \n",
      "           x + 4 y ==  2\n",
      "        -2 x +   y == 14\n",
      "    \n",
      "    >>> system = Matrix(( (1, 4, 2), (-2, 1, 14)))\n",
      "    >>> solve_linear_system(system, x, y)\n",
      "    {x: -6, y: 2}\n",
      "    \n",
      "    A degenerate system returns an empty dictionary.\n",
      "    \n",
      "    >>> system = Matrix(( (0,0,0), (0,0,0) ))\n",
      "    >>> solve_linear_system(system, x, y)\n",
      "    {}\n",
      "\n"
     ]
    }
   ],
   "source": [
    "help(solve_linear_system)"
   ]
  },
  {
   "cell_type": "code",
   "execution_count": null,
   "metadata": {},
   "outputs": [],
   "source": []
  }
 ],
 "metadata": {
  "kernelspec": {
   "display_name": "Python 2",
   "language": "python",
   "name": "python2"
  },
  "language_info": {
   "codemirror_mode": {
    "name": "ipython",
    "version": 2
   },
   "file_extension": ".py",
   "mimetype": "text/x-python",
   "name": "python",
   "nbconvert_exporter": "python",
   "pygments_lexer": "ipython2",
   "version": "2.7.14"
  }
 },
 "nbformat": 4,
 "nbformat_minor": 2
}
